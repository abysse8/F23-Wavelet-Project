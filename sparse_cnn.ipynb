{
 "cells": [
  {
   "cell_type": "markdown",
   "metadata": {},
   "source": [
    "## Attempting to create a custom convolutional layer"
   ]
  },
  {
   "cell_type": "code",
   "execution_count": 20,
   "metadata": {},
   "outputs": [],
   "source": [
    "import torch\n",
    "import torch.nn as nn\n",
    "from torch.utils.data import DataLoader, Dataset\n",
    "from torchvision import datasets\n",
    "from torchvision.transforms import v2\n",
    "\n",
    "\n",
    "class sparseConv2D(nn.Module):\n",
    "    def __init__(self, in_channels, out_channels, kernel_size, dilation=1, padding=0, stride=1):\n",
    "        super(sparseConv2D, self).__init__()\n",
    "        \n",
    "        self.kernel_size = (kernel_size, kernel_size)\n",
    "        self.kernel_size_number = kernel_size * kernel_size\n",
    "        self.offset_row = self.kernel_size[0] // 2\n",
    "        self.offset_col = self.kernel_size[1] // 2\n",
    "        self.out_channels = out_channels\n",
    "        self.dilation = (dilation, dilation)\n",
    "        self.padding = (padding, padding)\n",
    "        self.stride = (stride, stride)\n",
    "        self.in_channels = in_channels\n",
    "        self.weights = nn.Parameter(torch.randn((self.out_channels, self.in_channels, self.kernel_size[0], self.kernel_size[1])))\n",
    "        self.register_parameter(\"kernels\", self.weights)\n",
    "        # self.weights.requires_grad = True\n",
    "\n",
    "    def forward(self, x):\n",
    "        nz = torch.nonzero(x)\n",
    "        width = self.calculateNewWidth(x)\n",
    "        height = self.calculateNewHeight(x)\n",
    "        x = torch.nn.functional.pad(x, (self.padding[0], self.padding[0], self.padding[1], self.padding[1]), 'constant', 0)\n",
    "        out = torch.zeros((x.shape[0], self.out_channels, height, width))\n",
    "        for batch in range(x.shape[0]):\n",
    "            for out_channel in range(self.out_channels):\n",
    "                for in_channel in range(self.in_channels):\n",
    "                    for n in range(nz.shape[0]):\n",
    "                        # assuming odd kernel size\n",
    "                        i = nz[n,0]\n",
    "                        j = nz[n,1]\n",
    "                        out[batch, out_channel, i, j] = \\\n",
    "                            torch.sum(self.weights[out_channel, in_channel, :, :] * \\\n",
    "                                      x[batch, in_channel,\n",
    "                                        i - self.offset_row + self.padding[0]:i + self.offset_row+1 + self.padding[0],\n",
    "                                        j - self.offset_col + self.padding[1]:j + self.offset_col+1 + self.padding[1]])\n",
    "        \n",
    "        return out\n",
    "\n",
    "    def calculateNewWidth(self, x):\n",
    "        return (\n",
    "            (x.shape[2] + 2 * self.padding[0] - self.dilation[0] * (self.kernel_size[0] - 1) - 1)\n",
    "            // self.stride[0]\n",
    "        ) + 1\n",
    "\n",
    "    def calculateNewHeight(self, x):\n",
    "        return (\n",
    "            (x.shape[3] + 2 * self.padding[1] - self.dilation[1] * (self.kernel_size[1] - 1) - 1)\n",
    "            // self.stride[1]\n",
    "        ) + 1"
   ]
  },
  {
   "cell_type": "code",
   "execution_count": 21,
   "metadata": {},
   "outputs": [],
   "source": [
    "class sparseCNN(nn.Module):\n",
    "    def __init__(self):\n",
    "        super(sparseCNN, self).__init__()\n",
    "        self.conv1 = sparseConv2D(in_channels=1, \n",
    "                                  out_channels=1, \n",
    "                                  kernel_size=5, \n",
    "                                  dilation=1, \n",
    "                                  padding=2, \n",
    "                                  stride=1)\n",
    "        # self.relu = nn.ReLU()\n",
    "        # self.flatten = nn.Flatten()\n",
    "        # self.linear = nn.Linear(10*14*14, 10)\n",
    "        # self.out = nn.Softmax(dim=1)\n",
    "        \n",
    "    def forward(self, x):\n",
    "        x = self.conv1(x)\n",
    "        # x = self.relu(x)\n",
    "        # x = self.flatten(x)\n",
    "        # x = self.linear(x)\n",
    "        # x = self.out(x)\n",
    "\n",
    "        return x"
   ]
  },
  {
   "cell_type": "code",
   "execution_count": 48,
   "metadata": {},
   "outputs": [
    {
     "name": "stdout",
     "output_type": "stream",
     "text": [
      "Parameter containing:\n",
      "tensor([[[[ 2.4390, -0.0893,  0.9824,  0.0139, -0.8478],\n",
      "          [-0.3673,  0.1390,  1.1625, -1.0135, -0.8499],\n",
      "          [-0.2410, -0.3783, -1.9247, -1.0448, -0.1139],\n",
      "          [ 0.7479,  0.6105,  0.8354,  0.8894, -0.8345],\n",
      "          [-0.9958, -0.5198, -0.9535, -0.2008,  2.0358]]]], requires_grad=True)\n",
      "Loss:  8.163265228271484\n",
      "tensor([[[[0., 0., 0., 0., 0.],\n",
      "          [0., 0., 0., 0., 0.],\n",
      "          [0., 0., 0., 0., 0.],\n",
      "          [0., 0., 0., 0., 0.],\n",
      "          [0., 0., 0., 0., 0.]]]])\n",
      "Parameter containing:\n",
      "tensor([[[[ 2.4390, -0.0893,  0.9824,  0.0139, -0.8478],\n",
      "          [-0.3673,  0.1390,  1.1625, -1.0135, -0.8499],\n",
      "          [-0.2410, -0.3783, -1.9247, -1.0448, -0.1139],\n",
      "          [ 0.7479,  0.6105,  0.8354,  0.8894, -0.8345],\n",
      "          [-0.9958, -0.5198, -0.9535, -0.2008,  2.0358]]]], requires_grad=True)\n"
     ]
    }
   ],
   "source": [
    "net = sparseCNN()\n",
    "net.train()\n",
    "optimizer = torch.optim.SGD(params=net.parameters(), lr=0.1)\n",
    "loss = nn.MSELoss()\n",
    "out = torch.zeros((1,1,14,14))\n",
    "out[0,0,7:11,7:11] = 10\n",
    "inp = torch.zeros((1,1,14,14))\n",
    "inp[0,:,7,7] = 1\n",
    "\n",
    "print(net.conv1.weights)\n",
    "for i in range(1):\n",
    "    pred = net.forward(inp)\n",
    "    l = loss(pred, out)\n",
    "    print(\"Loss: \", l.item())\n",
    "    # l.requires_grad = True\n",
    "    l.backward()\n",
    "    print(net.conv1.weights.grad)\n",
    "    optimizer.step()\n",
    "print(net.conv1.weights)\n"
   ]
  },
  {
   "cell_type": "code",
   "execution_count": 49,
   "metadata": {},
   "outputs": [
    {
     "name": "stdout",
     "output_type": "stream",
     "text": [
      "[Parameter containing:\n",
      "tensor([[[[ 2.4390, -0.0893,  0.9824,  0.0139, -0.8478],\n",
      "          [-0.3673,  0.1390,  1.1625, -1.0135, -0.8499],\n",
      "          [-0.2410, -0.3783, -1.9247, -1.0448, -0.1139],\n",
      "          [ 0.7479,  0.6105,  0.8354,  0.8894, -0.8345],\n",
      "          [-0.9958, -0.5198, -0.9535, -0.2008,  2.0358]]]], requires_grad=True)]\n",
      "tensor([[[[0., 0., 0., 0., 0.],\n",
      "          [0., 0., 0., 0., 0.],\n",
      "          [0., 0., 0., 0., 0.],\n",
      "          [0., 0., 0., 0., 0.],\n",
      "          [0., 0., 0., 0., 0.]]]])\n"
     ]
    }
   ],
   "source": [
    "print(list(net.parameters()))\n",
    "print(net.conv1.weights.grad)"
   ]
  },
  {
   "cell_type": "code",
   "execution_count": 25,
   "metadata": {},
   "outputs": [
    {
     "name": "stdout",
     "output_type": "stream",
     "text": [
      "torch.Size([3, 4, 1, 1])\n",
      "torch.Size([3, 5, 6])\n",
      "tensor(7)\n",
      "tensor([[0., 0., 0., 0., 0., 0.],\n",
      "        [0., 1., 1., 1., 1., 0.],\n",
      "        [0., 1., 1., 1., 1., 0.],\n",
      "        [0., 1., 1., 1., 1., 0.],\n",
      "        [0., 1., 1., 1., 1., 0.],\n",
      "        [0., 0., 0., 0., 0., 0.]])\n"
     ]
    }
   ],
   "source": [
    "t = torch.arange(3*4*5*6).view(3,4,5,6)\n",
    "print(t.sum(dim=(2,3), keepdim=True).shape)\n",
    "print(t[:,0,:,:].shape)\n",
    "idx = torch.tensor([[1,1],[2,2]])\n",
    "print(t[0,0,1,1])\n",
    "\n",
    "from torch.nn.functional import pad\n",
    "o = torch.ones((4,4))\n",
    "print(pad(o, (1,1,1,1), \"constant\", 0))"
   ]
  }
 ],
 "metadata": {
  "kernelspec": {
   "display_name": "base",
   "language": "python",
   "name": "python3"
  },
  "language_info": {
   "codemirror_mode": {
    "name": "ipython",
    "version": 3
   },
   "file_extension": ".py",
   "mimetype": "text/x-python",
   "name": "python",
   "nbconvert_exporter": "python",
   "pygments_lexer": "ipython3",
   "version": "3.9.7"
  }
 },
 "nbformat": 4,
 "nbformat_minor": 2
}
